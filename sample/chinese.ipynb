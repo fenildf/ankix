{
 "cells": [
  {
   "cell_type": "code",
   "execution_count": 1,
   "metadata": {},
   "outputs": [
    {
     "data": {
      "text/plain": [
       "{'tag': <Model: Tag>,\n",
       " 'media': <Model: Media>,\n",
       " 'model': <Model: Model>,\n",
       " 'template': <Model: Template>,\n",
       " 'deck': <Model: Deck>,\n",
       " 'note': <Model: Note>,\n",
       " 'note_tag': <Model: NoteTagThrough>,\n",
       " 'note_media': <Model: NoteMediaThrough>,\n",
       " 'card': <Model: Card>}"
      ]
     },
     "execution_count": 1,
     "metadata": {},
     "output_type": "execute_result"
    }
   ],
   "source": [
    "from ankix import Ankix\n",
    "db = Ankix('user.ankix')\n",
    "db.tables"
   ]
  },
  {
   "cell_type": "code",
   "execution_count": 2,
   "metadata": {},
   "outputs": [
    {
     "data": {
      "text/plain": [
       "[<Tag: \"studynow\">,\n",
       " <Tag: \"n\">,\n",
       " <Tag: \"HSK_Level_1\">,\n",
       " <Tag: \"HSK_Level_2\">,\n",
       " <Tag: \"HSK_Level_3\">,\n",
       " <Tag: \"HSK_Level_4\">,\n",
       " <Tag: \"HSK_Level_5\">,\n",
       " <Tag: \"HSK_Level_6\">,\n",
       " <Tag: \"Parts_of_Speech\">,\n",
       " <Tag: \"A1\">,\n",
       " <Tag: \"Adverbs\">,\n",
       " <Tag: \"Conjunctions\">,\n",
       " <Tag: \"Numbers\">,\n",
       " <Tag: \"Particles\">,\n",
       " <Tag: \"Verbs\">,\n",
       " <Tag: \"Auxiliaryverbs\">,\n",
       " <Tag: \"Verbphrases\">,\n",
       " <Tag: \"Grammatical_Structures\">,\n",
       " <Tag: \"Basics\">,\n",
       " <Tag: \"QuestionForms\">,\n",
       " <Tag: \"Comparisons\">,\n",
       " <Tag: \"A2\">,\n",
       " <Tag: \"Adjectives\">,\n",
       " <Tag: \"AdverbswithAdjectives\">,\n",
       " <Tag: \"Nouns\">,\n",
       " <Tag: \"NumbersandMeasureWords\">,\n",
       " <Tag: \"Prepositions\">,\n",
       " <Tag: \"Complements\">,\n",
       " <Tag: \"NounPhrases\">,\n",
       " <Tag: \"SentencePatterns\">,\n",
       " <Tag: \"B1\">,\n",
       " <Tag: \"AuxiliaryWords\">,\n",
       " <Tag: \"\"If\"Statements\">,\n",
       " <Tag: \"Basic\">,\n",
       " <Tag: \"Either…or\">,\n",
       " <Tag: \"TimeWords\">,\n",
       " <Tag: \"B2\">,\n",
       " <Tag: \"PrepositionalPhrase\">,\n",
       " <Tag: \"Pronouns\">,\n",
       " <Tag: \"\"But\"Statements\">,\n",
       " <Tag: \"\"EvenIf\"Statements\">,\n",
       " <Tag: \"\"NoMatter\"Statements\">,\n",
       " <Tag: \"Cause/EffectStatements\">,\n",
       " <Tag: \"ConditionalStatements\">,\n",
       " <Tag: \"Letalone\">,\n",
       " <Tag: \"Notonly…butalso…\">,\n",
       " <Tag: \"SeparateFunctions\">,\n",
       " <Tag: \"auxiliaryverb\">,\n",
       " <Tag: \"C1\">]"
      ]
     },
     "execution_count": 2,
     "metadata": {},
     "output_type": "execute_result"
    }
   ],
   "source": [
    "list(db['tag'].select())"
   ]
  },
  {
   "cell_type": "code",
   "execution_count": 2,
   "metadata": {},
   "outputs": [],
   "source": [
    "iter_quiz = db.iter_quiz(tags=['HSK_Level_1'])"
   ]
  },
  {
   "cell_type": "code",
   "execution_count": 35,
   "metadata": {},
   "outputs": [
    {
     "data": {
      "text/html": [
       "\n",
       "        <style>\n",
       ".card {\n",
       "  font-family: arial;\n",
       "  font-size: 1.2em;\n",
       "  text-align: center;\n",
       "  color: black;\n",
       "  background-color: white;\n",
       "}\n",
       "\n",
       ".nobr {\n",
       "  white-space: nowrap;\n",
       "}\n",
       "\n",
       ".character_wrapper {\n",
       "  position: relative;\n",
       "  margin-top: 10px;\n",
       "  margin-bottom: 10px;\n",
       "}\n",
       "\n",
       ".character {\n",
       "  font-size: 3em;\n",
       "  height: 1em;\n",
       "}\n",
       "\n",
       ".character_type {\n",
       "  color: #AAA;\n",
       "  position: absolute;\n",
       "}\n",
       "\n",
       ".pinyin {\n",
       "  font-size: 2em;\n",
       "  height: 1em;\n",
       "}\n",
       "\n",
       ".words_with_same_pinyin {\n",
       "  font-size: 1.2em;\n",
       "  color: #888;\n",
       "}\n",
       "\n",
       ".classifier {\n",
       "  font-size: 1.2em;\n",
       "}\n",
       "\n",
       ".english_wrapper > ol {\n",
       "  display: inline-block;\n",
       "  text-align: left;\n",
       "}\n",
       "\n",
       ".nobr {\n",
       "  display:inline-block;\n",
       "}\n",
       "\n",
       "@media (min-width: 480px) {\n",
       "  /* On devices at least 480px wide, put a 15% margin on both sides of the\n",
       "     English definitions list */\n",
       "  .english_wrapper {\n",
       "    margin-left: 15%;\n",
       "    margin-right: 15%;\n",
       "  }\n",
       "}\n",
       "\n",
       ".card1 {\n",
       "  background-color: #ffffff;\n",
       "}\n",
       "\n",
       ".tone1 {\n",
       "  color: #ff0000;\n",
       "}\n",
       "\n",
       ".tone2 {\n",
       "  color: #d89000;\n",
       "}\n",
       "\n",
       ".tone3 {\n",
       "  color: #00a000;\n",
       "}\n",
       "\n",
       ".tone4 {\n",
       "  color: #0000ff;\n",
       "}\n",
       "</style>\n",
       "        <div id='c436'>\n",
       "            <br/>\n",
       "            <div id='q436'><div class=\"english_wrapper\">\n",
       "  <ol><li>student</li> <li>schoolchild</li></ol>\n",
       "</div></div>\n",
       "            <div id='a436' style='display: none;'><div class=\"english_wrapper\">\n",
       "  <ol><li>student</li> <li>schoolchild</li></ol>\n",
       "</div><p><hr id=answer></p>\n",
       "<div class=\"character\">\n",
       "  <span class=\"nobr\">学生</span>|<span class=\"nobr\">學生</span>\n",
       "</div><div class=\"pinyin\">\n",
       "  <span class=\"tone2\">xué</span> <span class=\"tone5\">sheng</span>\n",
       "</div></div>\n",
       "        </div>\n",
       "\n",
       "        <script>\n",
       "        function toggleHidden(el){\n",
       "            if(el.style.display === 'none') el.style.display = 'block';\n",
       "            else el.style.display = 'none';\n",
       "        }\n",
       "        \n",
       "        document.getElementById('c436').addEventListener('click', ()=>{\n",
       "            toggleHidden(document.getElementById('q436'));\n",
       "            toggleHidden(document.getElementById('a436'));\n",
       "        })\n",
       "        </script>\n",
       "        "
      ],
      "text/plain": [
       "<Card: 436>"
      ]
     },
     "execution_count": 35,
     "metadata": {},
     "output_type": "execute_result"
    }
   ],
   "source": [
    "card = next(iter_quiz)\n",
    "card"
   ]
  },
  {
   "cell_type": "code",
   "execution_count": 36,
   "metadata": {},
   "outputs": [],
   "source": [
    "card.right()"
   ]
  },
  {
   "cell_type": "code",
   "execution_count": 28,
   "metadata": {},
   "outputs": [],
   "source": [
    "card.wrong()"
   ]
  },
  {
   "cell_type": "code",
   "execution_count": null,
   "metadata": {},
   "outputs": [],
   "source": []
  }
 ],
 "metadata": {
  "kernelspec": {
   "display_name": "Python 3",
   "language": "python",
   "name": "python3"
  },
  "language_info": {
   "codemirror_mode": {
    "name": "ipython",
    "version": 3
   },
   "file_extension": ".py",
   "mimetype": "text/x-python",
   "name": "python",
   "nbconvert_exporter": "python",
   "pygments_lexer": "ipython3",
   "version": "3.7.0"
  }
 },
 "nbformat": 4,
 "nbformat_minor": 2
}
