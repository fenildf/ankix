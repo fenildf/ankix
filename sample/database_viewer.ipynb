{
 "cells": [
  {
   "cell_type": "code",
   "execution_count": 1,
   "metadata": {},
   "outputs": [],
   "source": [
    "from ankix import Ankix\n",
    "db = Ankix('medical.ankix')"
   ]
  },
  {
   "cell_type": "code",
   "execution_count": 2,
   "metadata": {},
   "outputs": [
    {
     "data": {
      "text/plain": [
       "{'settings': <Model: Settings>,\n",
       " 'tag': <Model: Tag>,\n",
       " 'media': <Model: Media>,\n",
       " 'model': <Model: Model>,\n",
       " 'template': <Model: Template>,\n",
       " 'deck': <Model: Deck>,\n",
       " 'note': <Model: Note>,\n",
       " 'note_tag': <Model: NoteTagThrough>,\n",
       " 'note_media': <Model: NoteMediaThrough>,\n",
       " 'card': <Model: Card>}"
      ]
     },
     "execution_count": 2,
     "metadata": {},
     "output_type": "execute_result"
    }
   ],
   "source": [
    "db.tables"
   ]
  },
  {
   "cell_type": "code",
   "execution_count": 2,
   "metadata": {},
   "outputs": [
    {
     "data": {
      "text/html": [
       "\n",
       "        <iframe\n",
       "            width=\"1000\"\n",
       "            height=\"500\"\n",
       "            src=\"790e806f-836f-4c08-84bc-9649988af5c5.html\"\n",
       "            frameborder=\"0\"\n",
       "            allowfullscreen\n",
       "        ></iframe>\n",
       "        "
      ],
      "text/plain": [
       "<IPython.lib.display.IFrame at 0x104889470>"
      ]
     },
     "metadata": {},
     "output_type": "display_data"
    },
    {
     "data": {
      "text/html": [],
      "text/plain": [
       "<htmlviewer.pagination.PagedViewer at 0x104330a90>"
      ]
     },
     "execution_count": 2,
     "metadata": {},
     "output_type": "execute_result"
    }
   ],
   "source": [
    "viewer = db['note'].get_viewer(db['note'].select())\n",
    "viewer"
   ]
  },
  {
   "cell_type": "code",
   "execution_count": 3,
   "metadata": {},
   "outputs": [
    {
     "data": {
      "text/html": [
       "\n",
       "        <style>.card {\n",
       "font-family: arial;\n",
       "font-size: 30px;\n",
       "text-align: center;\n",
       "color: black;\n",
       "background-color: white;\n",
       "}\n",
       "\n",
       ".hanzi {\n",
       "font-family: SimSun;\n",
       "font-size: 28px;\n",
       "}\n",
       "\n",
       ".pinyin {\n",
       "color: gray;\n",
       "}\n",
       "\n",
       ".translation {\n",
       "font-size: 26px;\n",
       "}\n",
       "\n",
       ".lessonInfoHanzi {\n",
       "font-family: SimSun;\n",
       "font-size: 12px;\n",
       "}\n",
       "\n",
       ".lessonInfo {\n",
       "font-family: arial;\n",
       "font-size: 10px;\n",
       "}\n",
       "\n",
       ".english {\n",
       "font-family: arial;\n",
       "font-size: 20px;\n",
       "}\n",
       "\n",
       ".notes {\n",
       "font-family: arial;\n",
       "font-size: 12px;\n",
       "color: gray;\n",
       "}\n",
       "\n",
       ".spacer {\n",
       "height: 20px;\n",
       "}\n",
       "\n",
       ".spacerSmall {\n",
       "height: 3px;\n",
       "}\n",
       "\n",
       ".spacerMedium {\n",
       "height: 10px;\n",
       "}\n",
       "</style>\n",
       "        <div id='c1520716970992'>\n",
       "            <br/>\n",
       "            <div id='q1520716970992'><div class=\"hanzi\">我没有问题。</div></div>\n",
       "            <div id='a1520716970992' style='display: none;'><div class=\"hanzi\">我没有问题。</div>\n",
       "<div class=\"spacer\"> </div>\n",
       "<div class=\"english\">\n",
       "    <div class=\"pinyin\">Wǒ méiyǒu wèntí.</div>\n",
       "    <div class=\"spacerSmall\"> </div>\n",
       "    I don't have any questions.\n",
       "    <div class=\"spacerMedium\"> </div>\n",
       "    <div class=\"notes\"></div>\n",
       "</div><div class=\"lessonInfo\">\n",
       "<div class=\"spacer\"> </div>\n",
       "<div>Pattern: <span class=\"lessonInfoHanzi\">没 + 有 (+ Obj.)</span></div>\n",
       "Article: <a href=https://resources.allsetlearning.com/chinese/grammar/ASGPNV3Q>Negation of \"you\" with \"mei\"</a>\n",
       "</div></div>\n",
       "        </div>\n",
       "\n",
       "        <script>\n",
       "        function toggleHidden(el){\n",
       "            if(el.style.display === 'none') el.style.display = 'block';\n",
       "            else el.style.display = 'none';\n",
       "        }\n",
       "        \n",
       "        document.getElementById('c1520716970992').addEventListener('click', ()=>{\n",
       "            toggleHidden(document.getElementById('q1520716970992'));\n",
       "            toggleHidden(document.getElementById('a1520716970992'));\n",
       "        })\n",
       "        </script>\n",
       "        "
      ],
      "text/plain": [
       "<Card: 1520716970992>"
      ]
     },
     "execution_count": 3,
     "metadata": {},
     "output_type": "execute_result"
    }
   ],
   "source": [
    "db['card'].select()[0]"
   ]
  },
  {
   "cell_type": "code",
   "execution_count": null,
   "metadata": {},
   "outputs": [],
   "source": []
  }
 ],
 "metadata": {
  "kernelspec": {
   "display_name": "Python 3",
   "language": "python",
   "name": "python3"
  },
  "language_info": {
   "codemirror_mode": {
    "name": "ipython",
    "version": 3
   },
   "file_extension": ".py",
   "mimetype": "text/x-python",
   "name": "python",
   "nbconvert_exporter": "python",
   "pygments_lexer": "ipython3",
   "version": "3.7.0"
  }
 },
 "nbformat": 4,
 "nbformat_minor": 2
}
